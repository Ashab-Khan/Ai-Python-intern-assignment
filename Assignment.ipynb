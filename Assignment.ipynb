{
  "nbformat": 4,
  "nbformat_minor": 0,
  "metadata": {
    "colab": {
      "provenance": []
    },
    "kernelspec": {
      "name": "python3",
      "display_name": "Python 3"
    },
    "language_info": {
      "name": "python"
    }
  },
  "cells": [
    {
      "cell_type": "code",
      "execution_count": null,
      "metadata": {
        "colab": {
          "base_uri": "https://localhost:8080/"
        },
        "id": "V8Uggo0LgqEs",
        "outputId": "00d66113-d869-4434-b0a0-a5a1561169af"
      },
      "outputs": [
        {
          "output_type": "stream",
          "name": "stdout",
          "text": [
            "Collecting PymuPDF\n",
            "  Downloading pymupdf-1.26.3-cp39-abi3-manylinux_2_28_x86_64.whl.metadata (3.4 kB)\n",
            "Downloading pymupdf-1.26.3-cp39-abi3-manylinux_2_28_x86_64.whl (24.1 MB)\n",
            "\u001b[2K   \u001b[90m━━━━━━━━━━━━━━━━━━━━━━━━━━━━━━━━━━━━━━━━\u001b[0m \u001b[32m24.1/24.1 MB\u001b[0m \u001b[31m41.2 MB/s\u001b[0m eta \u001b[36m0:00:00\u001b[0m\n",
            "\u001b[?25hInstalling collected packages: PymuPDF\n",
            "Successfully installed PymuPDF-1.26.3\n"
          ]
        }
      ],
      "source": [
        "!pip install PymuPDF"
      ]
    },
    {
      "cell_type": "code",
      "source": [
        "import fitz\n",
        "import re\n",
        "import os\n",
        "import json\n",
        "from IPython.display import Image, display\n",
        "\n",
        "doc = fitz.open('/content/IMO class 1 Maths Olympiad Sample Paper 1 for the year 2024-25.pdf')\n",
        "image_folder = \"images\"\n",
        "os.makedirs(image_folder, exist_ok=True)\n",
        "\n",
        "output_data = []\n",
        "\n",
        "for page_num, page in enumerate(doc):\n",
        "    print(f\"📄 Processing page {page_num + 1}\")\n",
        "\n",
        "    blocks = page.get_text(\"dict\")[\"blocks\"]\n",
        "    question_blocks = []\n",
        "\n",
        "    for block in blocks:\n",
        "        if block[\"type\"] == 0:\n",
        "            for line in block[\"lines\"]:\n",
        "                text = \" \".join([span[\"text\"] for span in line[\"spans\"]]).strip()\n",
        "                if re.match(r\"\\d+\\.\\s\", text):\n",
        "                    question_blocks.append({\n",
        "                        \"text\": text,\n",
        "                        \"y\": block[\"bbox\"][1]\n",
        "                    })\n",
        "\n",
        "    image_data = []\n",
        "    for img_index, img in enumerate(page.get_images(full=True)):\n",
        "        xref = img[0]\n",
        "        base_image = doc.extract_image(xref)\n",
        "        img_bytes = base_image[\"image\"]\n",
        "        img_ext = base_image[\"ext\"]\n",
        "        img_filename = f\"page{page_num+1}_img{img_index+1}.{img_ext}\"\n",
        "        img_path = os.path.join(image_folder, img_filename)\n",
        "\n",
        "        with open(img_path, \"wb\") as f:\n",
        "            f.write(img_bytes)\n",
        "\n",
        "        rects = page.get_image_rects(xref)\n",
        "        y_pos = rects[0].y0 if rects else 0\n",
        "\n",
        "        image_data.append({\n",
        "            \"path\": img_path,\n",
        "            \"y\": y_pos\n",
        "        })\n",
        "\n",
        "    for i, q in enumerate(question_blocks):\n",
        "        q_start_y = q[\"y\"]\n",
        "        q_end_y = question_blocks[i+1][\"y\"] if i+1 < len(question_blocks) else float('inf')\n",
        "\n",
        "        related_images = [\n",
        "            img[\"path\"] for img in image_data\n",
        "            if q_start_y <= img[\"y\"] < q_end_y\n",
        "        ]\n",
        "\n",
        "        total_imgs = len(related_images)\n",
        "        if total_imgs == 4:\n",
        "            question_imgs = []\n",
        "            option_imgs = related_images\n",
        "        elif total_imgs > 4:\n",
        "            question_imgs = related_images[:-4]\n",
        "            option_imgs = related_images[-4:]\n",
        "        else:\n",
        "            question_imgs = related_images\n",
        "            option_imgs = []\n",
        "\n",
        "        output_data.append({\n",
        "            \"question\": q[\"text\"],\n",
        "            \"images\": question_imgs[0] if question_imgs else None,\n",
        "            \"option_images\": option_imgs\n",
        "        })\n",
        "\n",
        "with open(\"questions_with_images.json\", \"w\") as f:\n",
        "    json.dump(output_data, f, indent=2)\n"
      ],
      "metadata": {
        "colab": {
          "base_uri": "https://localhost:8080/"
        },
        "id": "5oNz9M-Ug0ve",
        "outputId": "f202b8e9-ad26-46cf-8888-db85512520d3"
      },
      "execution_count": null,
      "outputs": [
        {
          "output_type": "stream",
          "name": "stdout",
          "text": [
            "📄 Processing page 1\n",
            "📄 Processing page 2\n",
            "📄 Processing page 3\n",
            "📄 Processing page 4\n",
            "📄 Processing page 5\n",
            "📄 Processing page 6\n",
            "📄 Processing page 7\n",
            "📄 Processing page 8\n",
            "📄 Processing page 9\n",
            "📄 Processing page 10\n",
            "📄 Processing page 11\n",
            "📄 Processing page 12\n",
            "📄 Processing page 13\n",
            "📄 Processing page 14\n"
          ]
        }
      ]
    },
    {
      "cell_type": "code",
      "source": [
        "import shutil\n",
        "\n",
        "shutil.make_archive(\"images\", \"zip\", \"images\")"
      ],
      "metadata": {
        "id": "IXwIVUcFiiDh",
        "outputId": "07ea73fd-62fb-4430-c7ad-2915bcc2eadd",
        "colab": {
          "base_uri": "https://localhost:8080/",
          "height": 35
        }
      },
      "execution_count": null,
      "outputs": [
        {
          "output_type": "execute_result",
          "data": {
            "text/plain": [
              "'/content/images.zip'"
            ],
            "application/vnd.google.colaboratory.intrinsic+json": {
              "type": "string"
            }
          },
          "metadata": {},
          "execution_count": 3
        }
      ]
    }
  ]
}